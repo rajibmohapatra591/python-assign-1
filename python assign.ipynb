{
 "cells": [
  {
   "cell_type": "code",
   "execution_count": 1,
   "id": "9f49b520-9fd3-458b-9df0-bcba0df8594f",
   "metadata": {},
   "outputs": [],
   "source": [
    "# Who developed python programming language ?"
   ]
  },
  {
   "cell_type": "code",
   "execution_count": null,
   "id": "bd9d445f-3563-42cc-93f4-adc8adbe2704",
   "metadata": {},
   "outputs": [],
   "source": [
    "Guido van Rossum"
   ]
  },
  {
   "cell_type": "code",
   "execution_count": 2,
   "id": "da1f4e9d-6c82-4f16-b3c5-f5255c80a33c",
   "metadata": {},
   "outputs": [],
   "source": [
    "# which type of programming does python support"
   ]
  },
  {
   "cell_type": "code",
   "execution_count": null,
   "id": "67e57d90-47cc-4034-a00a-f642aaca3220",
   "metadata": {},
   "outputs": [],
   "source": [
    "object-oriented programming language"
   ]
  },
  {
   "cell_type": "code",
   "execution_count": 3,
   "id": "c574b2be-dbb8-4847-83be-e6105cb56207",
   "metadata": {},
   "outputs": [],
   "source": [
    "# is python case sensitive when dealing with identifiers"
   ]
  },
  {
   "cell_type": "code",
   "execution_count": null,
   "id": "d6e07bd5-ccb9-4faa-a09d-ec36c6c7fb71",
   "metadata": {},
   "outputs": [],
   "source": [
    "Yes, Python is a case−sensitive programming language. "
   ]
  },
  {
   "cell_type": "code",
   "execution_count": 4,
   "id": "125ae890-cf0d-426d-aec6-a9662f891fd0",
   "metadata": {},
   "outputs": [],
   "source": [
    "# what is the correct extension of the python file"
   ]
  },
  {
   "cell_type": "code",
   "execution_count": null,
   "id": "4d2a8da2-a27c-40b0-901c-bc36d7ca4081",
   "metadata": {},
   "outputs": [],
   "source": [
    "pyc: This is the file extension for compiled Python code files."
   ]
  },
  {
   "cell_type": "code",
   "execution_count": 5,
   "id": "25559229-c555-42e4-907e-78a4bf657694",
   "metadata": {},
   "outputs": [],
   "source": [
    "# is python code compiled or interpreted"
   ]
  },
  {
   "cell_type": "code",
   "execution_count": null,
   "id": "33d49c73-db27-4b6b-88ce-5085e8573169",
   "metadata": {},
   "outputs": [],
   "source": [
    "Python is an interpreted language"
   ]
  },
  {
   "cell_type": "code",
   "execution_count": 6,
   "id": "f9bd59fe-1e5f-4a8b-bec5-c4e0f2a5ca60",
   "metadata": {},
   "outputs": [],
   "source": [
    "# Name a few blocks of code used to define in python language"
   ]
  },
  {
   "cell_type": "code",
   "execution_count": null,
   "id": "874b6585-80c0-4995-8dd7-944d8fb6d3a6",
   "metadata": {},
   "outputs": [],
   "source": [
    "The following are blocks: a module, a function body, and a class definition."
   ]
  },
  {
   "cell_type": "code",
   "execution_count": 7,
   "id": "b6cccc6e-b592-4d36-8d46-2015e4d668b5",
   "metadata": {},
   "outputs": [],
   "source": [
    "#  state a character used to give a single-line comment in python"
   ]
  },
  {
   "cell_type": "code",
   "execution_count": null,
   "id": "f551423e-81de-47c0-a9ce-8efa4292524b",
   "metadata": {},
   "outputs": [],
   "source": [
    " hash symbol, #"
   ]
  },
  {
   "cell_type": "code",
   "execution_count": 8,
   "id": "fcca5a20-a23b-424b-be20-73a1fa8171de",
   "metadata": {},
   "outputs": [],
   "source": [
    "# Mention function which can help us to find the verasion of python that we are curently working on"
   ]
  },
  {
   "cell_type": "code",
   "execution_count": null,
   "id": "90c6efa0-d1f7-46b8-be67-657a91cff8ef",
   "metadata": {},
   "outputs": [],
   "source": [
    "Python version\n",
    "3.10.0"
   ]
  },
  {
   "cell_type": "code",
   "execution_count": 9,
   "id": "ac403095-3432-4a9b-8e64-cad636d9659d",
   "metadata": {},
   "outputs": [],
   "source": [
    "# python supports the creation of anonymous functions at runtime , using a construct called ...."
   ]
  },
  {
   "cell_type": "code",
   "execution_count": null,
   "id": "3a00529e-62ea-4dca-bbfd-ad39274eff0a",
   "metadata": {},
   "outputs": [],
   "source": [
    "Python"
   ]
  },
  {
   "cell_type": "code",
   "execution_count": 10,
   "id": "ab2c919e-0c6f-4466-acd7-ea789c923d71",
   "metadata": {},
   "outputs": [],
   "source": [
    "# What does pip stand for python ?"
   ]
  },
  {
   "cell_type": "code",
   "execution_count": null,
   "id": "e1a7129b-2159-4dd5-ad64-863bdcdfe318",
   "metadata": {},
   "outputs": [],
   "source": [
    "“pip Install Packages”"
   ]
  },
  {
   "cell_type": "code",
   "execution_count": 11,
   "id": "11984f29-35ca-40ea-9198-56ed0437a404",
   "metadata": {},
   "outputs": [],
   "source": [
    "# Mention a few built-in functions in python ?"
   ]
  },
  {
   "cell_type": "code",
   "execution_count": null,
   "id": "ad13fd34-2878-4272-82fe-61d31fc386de",
   "metadata": {},
   "outputs": [],
   "source": [
    "Python comes with a rich set of built-in functions that are available for use without any additional installation\n",
    "or setup. Here are some of the commonly used built-in functions in Python:\n",
    "\n",
    "print() - Used to display output to the console.\n",
    "len() - Used to get the length of an object, such as a string, list, or tuple.\n",
    "input() - Used to take input from the user via the console.\n",
    "range() - Used to generate a sequence of numbers.\n",
    "type() - Used to get the data type of an object.\n",
    "str() - Used to convert an object to a string.\n",
    "int() - Used to convert an object to an integer.\n",
    "float() - Used to convert an object to a float.\n",
    "list() - Used to create a list from an iterable.\n",
    "tuple() - Used to create a tuple from an iterable.\n",
    "dict() - Used to create a dictionary from key-value pairs or an iterable.\n",
    "set() - Used to create a set from an iterable.\n",
    "sorted() - Used to sort an iterable.\n",
    "sum() - Used to get the sum of a sequence of numbers.\n",
    "max() - Used to get the maximum value from an iterable.\n",
    "min() - Used to get the minimum value from an iterable.\n",
    "abs() - Used to get the absolute value of a number.\n",
    "round() - Used to round a number to a specified number of decimal places.\n",
    "open() - Used to open a file in a specified mode.\n",
    "range() - Used to generate a sequence of numbers.\n",
    "These are just a few examples of the many built-in functions available in Python."
   ]
  },
  {
   "cell_type": "code",
   "execution_count": 12,
   "id": "6b4eb073-fcc3-404e-8c7d-87afbb1976cb",
   "metadata": {},
   "outputs": [],
   "source": [
    "# What is maximum possible length of an identifier in python ?"
   ]
  },
  {
   "cell_type": "code",
   "execution_count": null,
   "id": "07648098-83a5-4c0c-b779-b9af6b7dc06c",
   "metadata": {},
   "outputs": [],
   "source": [
    "An identifier can have a maximum length of 79 characters in Python."
   ]
  },
  {
   "cell_type": "code",
   "execution_count": 13,
   "id": "ff0e2a79-a420-40e3-b703-3375bbcf20bb",
   "metadata": {},
   "outputs": [],
   "source": [
    "# what are the benefits of using python"
   ]
  },
  {
   "cell_type": "code",
   "execution_count": null,
   "id": "39cc1288-63f1-4850-a146-a308b70edbeb",
   "metadata": {},
   "outputs": [],
   "source": [
    "There are many benefits of using Python as a programming language. Some of the key benefits include:\n",
    "\n",
    "1.Easy to learn and use\n",
    "2.Large standard library\n",
    "3.Cross-platform\n",
    "4.Open-source\n",
    "5.Versatile \n",
    "6.High-level abstractions\n",
    "7.Interpreted\n",
    "8.Excellent for data analysis and visualization\n",
    "These are just a few of the many benefits of using Python as a programming language."
   ]
  },
  {
   "cell_type": "code",
   "execution_count": 14,
   "id": "c705226e-7979-4539-bd7e-adff4390eff7",
   "metadata": {},
   "outputs": [],
   "source": [
    "# How is memory managed in python ?"
   ]
  },
  {
   "cell_type": "code",
   "execution_count": null,
   "id": "cc15b8b2-77c0-49d2-b08e-c849435e6cc5",
   "metadata": {},
   "outputs": [],
   "source": [
    "Memory management in Python involves a private heap containing all Python objects and data structures."
   ]
  },
  {
   "cell_type": "code",
   "execution_count": 15,
   "id": "98753d69-28b6-4dd4-bb71-c9edbc8f7abf",
   "metadata": {},
   "outputs": [],
   "source": [
    "# How to install python in windows and set path variables ?"
   ]
  },
  {
   "cell_type": "code",
   "execution_count": null,
   "id": "7e0a1d81-f6b2-4076-adcf-1c7194e1543d",
   "metadata": {},
   "outputs": [],
   "source": [
    "The complete path of python.exe can be added by:\n",
    "1.Right-clicking This PC and going to Properties.\n",
    "2.Clicking on the Advanced system settings in the menu on the left.\n",
    "3.Clicking on the Environment Variables button o​n the bottom right.\n",
    "4.In the System variables section, selecting the Path variable and clicking on Edit."
   ]
  },
  {
   "cell_type": "code",
   "execution_count": 16,
   "id": "f17ea31f-4c00-460e-8f72-c1a105deb912",
   "metadata": {},
   "outputs": [],
   "source": [
    "# Is indentation required in python ?"
   ]
  },
  {
   "cell_type": "code",
   "execution_count": null,
   "id": "d7903e88-e729-4e0e-82c2-34949f02172e",
   "metadata": {},
   "outputs": [],
   "source": [
    "Indentation is important to Python"
   ]
  }
 ],
 "metadata": {
  "kernelspec": {
   "display_name": "Python 3 (ipykernel)",
   "language": "python",
   "name": "python3"
  },
  "language_info": {
   "codemirror_mode": {
    "name": "ipython",
    "version": 3
   },
   "file_extension": ".py",
   "mimetype": "text/x-python",
   "name": "python",
   "nbconvert_exporter": "python",
   "pygments_lexer": "ipython3",
   "version": "3.10.8"
  }
 },
 "nbformat": 4,
 "nbformat_minor": 5
}
